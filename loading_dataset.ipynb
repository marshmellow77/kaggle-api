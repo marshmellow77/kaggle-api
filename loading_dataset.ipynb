{
 "cells": [
  {
   "cell_type": "code",
   "execution_count": null,
   "id": "d286e22f-c8c2-4408-8068-fe07858e5701",
   "metadata": {},
   "outputs": [],
   "source": [
    "from datasets import load_dataset\n",
    "dataset = load_dataset(\"arxiv_dataset\")"
   ]
  },
  {
   "cell_type": "code",
   "execution_count": null,
   "id": "a48ff8ef-3823-4957-9cd1-de0a612f1986",
   "metadata": {},
   "outputs": [],
   "source": [
    "dataset = load_dataset(\"arxiv_dataset\", data_dir='.')"
   ]
  },
  {
   "cell_type": "code",
   "execution_count": null,
   "id": "af1758bf-eb0a-49f8-946b-5243cfccb3b6",
   "metadata": {},
   "outputs": [],
   "source": [
    "dataset = load_dataset(\"arxiv_dataset\", data_dir='.', split='train', ignore_verifications=True)"
   ]
  },
  {
   "cell_type": "code",
   "execution_count": null,
   "id": "a50d0c84-6eef-4df7-886b-07d10fc955da",
   "metadata": {},
   "outputs": [],
   "source": []
  }
 ],
 "metadata": {
  "kernelspec": {
   "display_name": "default:Python",
   "language": "python",
   "name": "conda-env-default-py"
  },
  "language_info": {
   "codemirror_mode": {
    "name": "ipython",
    "version": 3
   },
   "file_extension": ".py",
   "mimetype": "text/x-python",
   "name": "python",
   "nbconvert_exporter": "python",
   "pygments_lexer": "ipython3",
   "version": "3.9.7"
  }
 },
 "nbformat": 4,
 "nbformat_minor": 5
}
