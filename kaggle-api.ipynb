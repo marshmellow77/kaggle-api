{
 "cells": [
  {
   "cell_type": "code",
   "execution_count": null,
   "id": "f90e6a80-ab80-4d4d-9412-e19945cc2f15",
   "metadata": {},
   "outputs": [],
   "source": [
    "!pip install kaggle"
   ]
  },
  {
   "cell_type": "code",
   "execution_count": null,
   "id": "25d15ef8-5f71-462b-af51-d25e3ca57cdc",
   "metadata": {},
   "outputs": [],
   "source": [
    "import os\n",
    "os.environ['KAGGLE_USERNAME'] = \"<your-kaggle-username>\"\n",
    "os.environ['KAGGLE_KEY'] = \"<your-kaggle-api-key>\""
   ]
  },
  {
   "cell_type": "code",
   "execution_count": null,
   "id": "6a343c5b-7032-4269-8de1-e2c37f7c44ca",
   "metadata": {},
   "outputs": [],
   "source": [
    "from kaggle.api.kaggle_api_extended import KaggleApi\n",
    "api = KaggleApi()\n",
    "api.authenticate()"
   ]
  },
  {
   "cell_type": "code",
   "execution_count": null,
   "id": "e8f6203e-092e-422a-80e4-3e0b2c52c783",
   "metadata": {},
   "outputs": [],
   "source": [
    "api.dataset_list_files('Cornell-University/arxiv').files"
   ]
  },
  {
   "cell_type": "code",
   "execution_count": null,
   "id": "b85944e8-0f2b-442f-bc7c-c98dd7d17dda",
   "metadata": {},
   "outputs": [],
   "source": [
    "api.dataset_download_files('Cornell-University/arxiv', path=\".\")"
   ]
  },
  {
   "cell_type": "code",
   "execution_count": null,
   "id": "360d4de9-1694-4711-b430-9f8ec329c9ac",
   "metadata": {},
   "outputs": [],
   "source": [
    "!unzip arxiv.zip"
   ]
  },
  {
   "cell_type": "code",
   "execution_count": null,
   "id": "8fcabb96-62fa-4e6f-ab9f-d4cb6b38fad0",
   "metadata": {},
   "outputs": [],
   "source": []
  }
 ],
 "metadata": {
  "kernelspec": {
   "display_name": "default:Python",
   "language": "python",
   "name": "conda-env-default-py"
  },
  "language_info": {
   "codemirror_mode": {
    "name": "ipython",
    "version": 3
   },
   "file_extension": ".py",
   "mimetype": "text/x-python",
   "name": "python",
   "nbconvert_exporter": "python",
   "pygments_lexer": "ipython3",
   "version": "3.9.7"
  }
 },
 "nbformat": 4,
 "nbformat_minor": 5
}
