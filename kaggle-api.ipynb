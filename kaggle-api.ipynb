{
 "cells": [
  {
   "cell_type": "code",
   "execution_count": 1,
   "id": "f90e6a80-ab80-4d4d-9412-e19945cc2f15",
   "metadata": {},
   "outputs": [
    {
     "name": "stdout",
     "output_type": "stream",
     "text": [
      "Collecting kaggle\n",
      "  Downloading kaggle-1.5.12.tar.gz (58 kB)\n",
      "\u001b[K     |████████████████████████████████| 58 kB 1.9 MB/s eta 0:00:01\n",
      "\u001b[?25hRequirement already satisfied: six>=1.10 in /home/studio-lab-user/.conda/envs/default/lib/python3.9/site-packages (from kaggle) (1.16.0)\n",
      "Requirement already satisfied: certifi in /home/studio-lab-user/.conda/envs/default/lib/python3.9/site-packages (from kaggle) (2021.10.8)\n",
      "Requirement already satisfied: python-dateutil in /home/studio-lab-user/.conda/envs/default/lib/python3.9/site-packages (from kaggle) (2.8.2)\n",
      "Requirement already satisfied: requests in /home/studio-lab-user/.conda/envs/default/lib/python3.9/site-packages (from kaggle) (2.26.0)\n",
      "Requirement already satisfied: tqdm in /home/studio-lab-user/.conda/envs/default/lib/python3.9/site-packages (from kaggle) (4.62.3)\n",
      "Collecting python-slugify\n",
      "  Downloading python_slugify-5.0.2-py2.py3-none-any.whl (6.7 kB)\n",
      "Requirement already satisfied: urllib3 in /home/studio-lab-user/.conda/envs/default/lib/python3.9/site-packages (from kaggle) (1.26.7)\n",
      "Collecting text-unidecode>=1.3\n",
      "  Downloading text_unidecode-1.3-py2.py3-none-any.whl (78 kB)\n",
      "\u001b[K     |████████████████████████████████| 78 kB 4.9 MB/s eta 0:00:011\n",
      "\u001b[?25hRequirement already satisfied: charset-normalizer~=2.0.0 in /home/studio-lab-user/.conda/envs/default/lib/python3.9/site-packages (from requests->kaggle) (2.0.9)\n",
      "Requirement already satisfied: idna<4,>=2.5 in /home/studio-lab-user/.conda/envs/default/lib/python3.9/site-packages (from requests->kaggle) (3.3)\n",
      "Building wheels for collected packages: kaggle\n",
      "  Building wheel for kaggle (setup.py) ... \u001b[?25ldone\n",
      "\u001b[?25h  Created wheel for kaggle: filename=kaggle-1.5.12-py3-none-any.whl size=73051 sha256=532a24177b2cc18f4d0c63c27b87a5e9d44416e3ea6466b679377df09cbb3f6b\n",
      "  Stored in directory: /home/studio-lab-user/.cache/pip/wheels/ac/b2/c3/fa4706d469b5879105991d1c8be9a3c2ef329ba9fe2ce5085e\n",
      "Successfully built kaggle\n",
      "Installing collected packages: text-unidecode, python-slugify, kaggle\n",
      "Successfully installed kaggle-1.5.12 python-slugify-5.0.2 text-unidecode-1.3\n"
     ]
    }
   ],
   "source": [
    "!pip install kaggle"
   ]
  },
  {
   "cell_type": "code",
   "execution_count": 2,
   "id": "25d15ef8-5f71-462b-af51-d25e3ca57cdc",
   "metadata": {},
   "outputs": [],
   "source": [
    "import os\n",
    "os.environ['KAGGLE_USERNAME'] = \"marshmellow77\"\n",
    "os.environ['KAGGLE_KEY'] = \"5b2c4fe92c68d358ef8ad52ece20445f\""
   ]
  },
  {
   "cell_type": "code",
   "execution_count": 3,
   "id": "6a343c5b-7032-4269-8de1-e2c37f7c44ca",
   "metadata": {},
   "outputs": [],
   "source": [
    "from kaggle.api.kaggle_api_extended import KaggleApi\n",
    "api = KaggleApi()\n",
    "api.authenticate()"
   ]
  },
  {
   "cell_type": "code",
   "execution_count": 4,
   "id": "e8f6203e-092e-422a-80e4-3e0b2c52c783",
   "metadata": {},
   "outputs": [
    {
     "data": {
      "text/plain": [
       "[arxiv-metadata-oai-snapshot.json]"
      ]
     },
     "execution_count": 4,
     "metadata": {},
     "output_type": "execute_result"
    }
   ],
   "source": [
    "api.dataset_list_files('Cornell-University/arxiv').files"
   ]
  },
  {
   "cell_type": "code",
   "execution_count": 8,
   "id": "316bdd03-af48-49a4-b7df-08879e0c1698",
   "metadata": {},
   "outputs": [
    {
     "data": {
      "text/plain": [
       "Cornell-University/arxiv"
      ]
     },
     "execution_count": 8,
     "metadata": {},
     "output_type": "execute_result"
    }
   ],
   "source": [
    "api.dataset_view('Cornell-University/arxiv')"
   ]
  },
  {
   "cell_type": "code",
   "execution_count": 11,
   "id": "b85944e8-0f2b-442f-bc7c-c98dd7d17dda",
   "metadata": {},
   "outputs": [
    {
     "data": {
      "text/plain": [
       "True"
      ]
     },
     "execution_count": 11,
     "metadata": {},
     "output_type": "execute_result"
    }
   ],
   "source": [
    "api.dataset_download_file('Cornell-University/arxiv', file_name=\"arxiv-metadata-oai-snapshot.json\", path=\".\")"
   ]
  },
  {
   "cell_type": "code",
   "execution_count": 12,
   "id": "360d4de9-1694-4711-b430-9f8ec329c9ac",
   "metadata": {},
   "outputs": [
    {
     "name": "stdout",
     "output_type": "stream",
     "text": [
      "Archive:  arxiv-metadata-oai-snapshot.json.zip\n",
      "  inflating: arxiv-metadata-oai-snapshot.json  \n"
     ]
    }
   ],
   "source": [
    "!unzip arxiv-metadata-oai-snapshot.json.zip"
   ]
  },
  {
   "cell_type": "code",
   "execution_count": null,
   "id": "8fcabb96-62fa-4e6f-ab9f-d4cb6b38fad0",
   "metadata": {},
   "outputs": [],
   "source": []
  }
 ],
 "metadata": {
  "kernelspec": {
   "display_name": "default:Python",
   "language": "python",
   "name": "conda-env-default-py"
  },
  "language_info": {
   "codemirror_mode": {
    "name": "ipython",
    "version": 3
   },
   "file_extension": ".py",
   "mimetype": "text/x-python",
   "name": "python",
   "nbconvert_exporter": "python",
   "pygments_lexer": "ipython3",
   "version": "3.9.7"
  }
 },
 "nbformat": 4,
 "nbformat_minor": 5
}
